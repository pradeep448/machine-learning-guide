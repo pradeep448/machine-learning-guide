{
 "cells": [
  {
   "cell_type": "code",
   "execution_count": null,
   "metadata": {
    "execution": {
     "iopub.execute_input": "2021-06-30T12:39:33.829553Z",
     "iopub.status.busy": "2021-06-30T12:39:33.829172Z",
     "iopub.status.idle": "2021-06-30T12:39:35.440713Z",
     "shell.execute_reply": "2021-06-30T12:39:35.439796Z",
     "shell.execute_reply.started": "2021-06-30T12:39:33.829461Z"
    }
   },
   "outputs": [],
   "source": [
    "from imblearn.under_sampling import NearMiss"
   ]
  },
  {
   "cell_type": "code",
   "execution_count": null,
   "metadata": {
    "execution": {
     "iopub.execute_input": "2021-06-30T12:39:35.442707Z",
     "iopub.status.busy": "2021-06-30T12:39:35.442432Z",
     "iopub.status.idle": "2021-06-30T12:39:35.522996Z",
     "shell.execute_reply": "2021-06-30T12:39:35.521559Z",
     "shell.execute_reply.started": "2021-06-30T12:39:35.442679Z"
    }
   },
   "outputs": [],
   "source": [
    "# Implementing Undersampling for Handling Imbalanced \n",
    "nm = NearMiss(random_state=42)\n",
    "X_res,y_res=nm.fit_sample(X,Y)"
   ]
  },
  {
   "cell_type": "code",
   "execution_count": null,
   "metadata": {
    "execution": {
     "iopub.status.busy": "2021-06-30T12:39:35.523785Z",
     "iopub.status.idle": "2021-06-30T12:39:35.524198Z"
    }
   },
   "outputs": [],
   "source": [
    "X_res.shape,y_res.shape"
   ]
  },
  {
   "cell_type": "code",
   "execution_count": null,
   "metadata": {
    "execution": {
     "iopub.execute_input": "2021-06-30T12:43:39.558694Z",
     "iopub.status.busy": "2021-06-30T12:43:39.558324Z",
     "iopub.status.idle": "2021-06-30T12:43:39.562990Z",
     "shell.execute_reply": "2021-06-30T12:43:39.561915Z",
     "shell.execute_reply.started": "2021-06-30T12:43:39.558665Z"
    }
   },
   "outputs": [],
   "source": [
    "## RandomOverSampler to handle imbalanced data\n",
    "\n",
    "from imblearn.over_sampling import RandomOverSampler"
   ]
  },
  {
   "cell_type": "code",
   "execution_count": null,
   "metadata": {
    "execution": {
     "iopub.execute_input": "2021-06-30T12:43:56.499557Z",
     "iopub.status.busy": "2021-06-30T12:43:56.498963Z",
     "iopub.status.idle": "2021-06-30T12:43:56.516004Z",
     "shell.execute_reply": "2021-06-30T12:43:56.514549Z",
     "shell.execute_reply.started": "2021-06-30T12:43:56.499503Z"
    }
   },
   "outputs": [],
   "source": [
    "os =  RandomOverSampler(ratio=0.5)\n",
    "X_train_res, y_train_res = os.fit_sample(X, Y)\n",
    "X_train_res.shape,y_train_res.shape\n"
   ]
  },
  {
   "cell_type": "code",
   "execution_count": null,
   "metadata": {},
   "outputs": [],
   "source": []
  }
 ],
 "metadata": {
  "kernelspec": {
   "display_name": "Python 3",
   "language": "python",
   "name": "python3"
  },
  "language_info": {
   "codemirror_mode": {
    "name": "ipython",
    "version": 3
   },
   "file_extension": ".py",
   "mimetype": "text/x-python",
   "name": "python",
   "nbconvert_exporter": "python",
   "pygments_lexer": "ipython3",
   "version": "3.8.5"
  }
 },
 "nbformat": 4,
 "nbformat_minor": 4
}
